{
  "nbformat": 4,
  "nbformat_minor": 0,
  "metadata": {
    "colab": {
      "provenance": [],
      "collapsed_sections": []
    },
    "kernelspec": {
      "name": "python3",
      "display_name": "Python 3"
    },
    "language_info": {
      "name": "python"
    }
  },
  "cells": [
    {
      "cell_type": "code",
      "execution_count": null,
      "metadata": {
        "colab": {
          "base_uri": "https://localhost:8080/"
        },
        "id": "9y5apWxkqWkM",
        "outputId": "f66a8932-04ae-4f5c-d835-5fc36845f180"
      },
      "outputs": [
        {
          "output_type": "stream",
          "name": "stdout",
          "text": [
            "Mounted at /content/drive\n"
          ]
        }
      ],
      "source": [
        "from google.colab import drive\n",
        "drive.mount('/content/drive')"
      ]
    },
    {
      "cell_type": "markdown",
      "source": [
        "Importing libraries:"
      ],
      "metadata": {
        "id": "t625RZXXKVBx"
      }
    },
    {
      "cell_type": "code",
      "source": [
        "import numpy as np\n",
        "import pandas as pd\n",
        "import tensorflow as tf\n",
        "from tensorflow.keras import models,datasets,layers\n",
        "from sklearn.model_selection import train_test_split\n",
        "from sklearn.preprocessing import StandardScaler\n",
        "import matplotlib.pyplot as plt"
      ],
      "metadata": {
        "id": "JOeFbhiLKJGe"
      },
      "execution_count": null,
      "outputs": []
    },
    {
      "cell_type": "markdown",
      "source": [
        "Reading the dataset:"
      ],
      "metadata": {
        "id": "9cyTG0YmMIlZ"
      }
    },
    {
      "cell_type": "code",
      "source": [
        "df = pd.read_csv(\"/content/drive/MyDrive/diabetes.csv\")"
      ],
      "metadata": {
        "id": "TEcJJRE3KupM"
      },
      "execution_count": null,
      "outputs": []
    },
    {
      "cell_type": "code",
      "source": [
        "x = df.iloc[:,0:8]\n",
        "y = df[\"Outcome\"]"
      ],
      "metadata": {
        "id": "mDmZPMaRMBFi"
      },
      "execution_count": null,
      "outputs": []
    },
    {
      "cell_type": "code",
      "source": [
        "# normalizing values using fir_transform()\n",
        "x = StandardScaler().fit_transform(x)"
      ],
      "metadata": {
        "id": "gBVz_tu5MgGb"
      },
      "execution_count": null,
      "outputs": []
    },
    {
      "cell_type": "markdown",
      "source": [
        "Splitting data into traing and testing data"
      ],
      "metadata": {
        "id": "yetCeRTKNMTw"
      }
    },
    {
      "cell_type": "code",
      "source": [
        "x_train,x_test,y_train,y_test = train_test_split(x,y,test_size=0.1)"
      ],
      "metadata": {
        "id": "oAzMSs6kM7oA"
      },
      "execution_count": null,
      "outputs": []
    },
    {
      "cell_type": "markdown",
      "source": [
        "Sequential model:"
      ],
      "metadata": {
        "id": "oQdr2ifINVN6"
      }
    },
    {
      "cell_type": "code",
      "source": [
        "model = models.Sequential()\n",
        "# First hidden layer:\n",
        "model.add(layers.Dense(100,activation=\"relu\"))\n",
        "# Second hidden layer:\n",
        "model.add(layers.Dense(50,activation=\"relu\"))\n",
        "# Third hidden layer:\n",
        "model.add(layers.Dense(25,activation=\"relu\"))\n",
        "# Fourth hidden layer: \n",
        "model.add(layers.Dense(12,activation=\"relu\"))\n",
        "# Fifth hidden layer: \n",
        "model.add(layers.Dense(6,activation=\"relu\"))\n",
        "# Output layer:\n",
        "model.add(layers.Dense(1,activation=\"sigmoid\"))   # Output will be between Yes or no(binary) so only 1 neuron"
      ],
      "metadata": {
        "id": "wbOy6AsRNJtP"
      },
      "execution_count": null,
      "outputs": []
    },
    {
      "cell_type": "code",
      "source": [
        "# optimizer = adam\n",
        "# binary_crossentropy function used to compute the cross-entropy loss between true labels and predicted labels\n",
        "model.compile(optimizer=\"adam\",loss=\"binary_crossentropy\",metrics=[\"accuracy\"])"
      ],
      "metadata": {
        "id": "WymXorJMPbQA"
      },
      "execution_count": null,
      "outputs": []
    },
    {
      "cell_type": "markdown",
      "source": [
        "Data fitting in the model:"
      ],
      "metadata": {
        "id": "nuQz9G1aP7wR"
      }
    },
    {
      "cell_type": "code",
      "source": [
        "history = model.fit(x_train,y_train,epochs=50,validation_data=(x_test,y_test))"
      ],
      "metadata": {
        "colab": {
          "base_uri": "https://localhost:8080/"
        },
        "id": "CLUJ9enGPtS3",
        "outputId": "94e87370-87d7-4f36-c33d-6598d25dce29"
      },
      "execution_count": null,
      "outputs": [
        {
          "output_type": "stream",
          "name": "stdout",
          "text": [
            "Epoch 1/50\n",
            "22/22 [==============================] - 1s 13ms/step - loss: 0.6554 - accuracy: 0.6570 - val_loss: 0.5854 - val_accuracy: 0.8052\n",
            "Epoch 2/50\n",
            "22/22 [==============================] - 0s 3ms/step - loss: 0.5797 - accuracy: 0.7048 - val_loss: 0.4676 - val_accuracy: 0.8312\n",
            "Epoch 3/50\n",
            "22/22 [==============================] - 0s 3ms/step - loss: 0.5125 - accuracy: 0.7685 - val_loss: 0.3955 - val_accuracy: 0.8312\n",
            "Epoch 4/50\n",
            "22/22 [==============================] - 0s 5ms/step - loss: 0.4776 - accuracy: 0.7641 - val_loss: 0.3739 - val_accuracy: 0.8701\n",
            "Epoch 5/50\n",
            "22/22 [==============================] - 0s 4ms/step - loss: 0.4599 - accuracy: 0.7931 - val_loss: 0.3878 - val_accuracy: 0.8182\n",
            "Epoch 6/50\n",
            "22/22 [==============================] - 0s 3ms/step - loss: 0.4556 - accuracy: 0.7786 - val_loss: 0.3726 - val_accuracy: 0.8312\n",
            "Epoch 7/50\n",
            "22/22 [==============================] - 0s 4ms/step - loss: 0.4449 - accuracy: 0.7902 - val_loss: 0.3748 - val_accuracy: 0.8182\n",
            "Epoch 8/50\n",
            "22/22 [==============================] - 0s 4ms/step - loss: 0.4467 - accuracy: 0.7916 - val_loss: 0.3743 - val_accuracy: 0.8442\n",
            "Epoch 9/50\n",
            "22/22 [==============================] - 0s 4ms/step - loss: 0.4347 - accuracy: 0.8046 - val_loss: 0.3770 - val_accuracy: 0.8312\n",
            "Epoch 10/50\n",
            "22/22 [==============================] - 0s 5ms/step - loss: 0.4311 - accuracy: 0.7931 - val_loss: 0.4125 - val_accuracy: 0.8312\n",
            "Epoch 11/50\n",
            "22/22 [==============================] - 0s 4ms/step - loss: 0.4343 - accuracy: 0.7873 - val_loss: 0.4005 - val_accuracy: 0.8312\n",
            "Epoch 12/50\n",
            "22/22 [==============================] - 0s 4ms/step - loss: 0.4203 - accuracy: 0.8133 - val_loss: 0.3879 - val_accuracy: 0.8312\n",
            "Epoch 13/50\n",
            "22/22 [==============================] - 0s 3ms/step - loss: 0.4144 - accuracy: 0.8119 - val_loss: 0.3987 - val_accuracy: 0.8182\n",
            "Epoch 14/50\n",
            "22/22 [==============================] - 0s 3ms/step - loss: 0.4100 - accuracy: 0.8177 - val_loss: 0.3957 - val_accuracy: 0.8182\n",
            "Epoch 15/50\n",
            "22/22 [==============================] - 0s 4ms/step - loss: 0.4030 - accuracy: 0.8234 - val_loss: 0.4177 - val_accuracy: 0.8182\n",
            "Epoch 16/50\n",
            "22/22 [==============================] - 0s 4ms/step - loss: 0.4054 - accuracy: 0.8292 - val_loss: 0.3996 - val_accuracy: 0.8182\n",
            "Epoch 17/50\n",
            "22/22 [==============================] - 0s 3ms/step - loss: 0.3993 - accuracy: 0.8234 - val_loss: 0.3971 - val_accuracy: 0.8312\n",
            "Epoch 18/50\n",
            "22/22 [==============================] - 0s 5ms/step - loss: 0.3917 - accuracy: 0.8278 - val_loss: 0.4150 - val_accuracy: 0.8052\n",
            "Epoch 19/50\n",
            "22/22 [==============================] - 0s 3ms/step - loss: 0.3827 - accuracy: 0.8365 - val_loss: 0.4103 - val_accuracy: 0.8052\n",
            "Epoch 20/50\n",
            "22/22 [==============================] - 0s 4ms/step - loss: 0.3758 - accuracy: 0.8321 - val_loss: 0.4334 - val_accuracy: 0.7662\n",
            "Epoch 21/50\n",
            "22/22 [==============================] - 0s 4ms/step - loss: 0.3696 - accuracy: 0.8423 - val_loss: 0.4101 - val_accuracy: 0.8182\n",
            "Epoch 22/50\n",
            "22/22 [==============================] - 0s 3ms/step - loss: 0.3698 - accuracy: 0.8394 - val_loss: 0.4064 - val_accuracy: 0.8312\n",
            "Epoch 23/50\n",
            "22/22 [==============================] - 0s 3ms/step - loss: 0.3629 - accuracy: 0.8437 - val_loss: 0.4236 - val_accuracy: 0.8052\n",
            "Epoch 24/50\n",
            "22/22 [==============================] - 0s 3ms/step - loss: 0.3596 - accuracy: 0.8365 - val_loss: 0.4726 - val_accuracy: 0.7403\n",
            "Epoch 25/50\n",
            "22/22 [==============================] - 0s 5ms/step - loss: 0.3530 - accuracy: 0.8365 - val_loss: 0.4305 - val_accuracy: 0.7922\n",
            "Epoch 26/50\n",
            "22/22 [==============================] - 0s 3ms/step - loss: 0.3451 - accuracy: 0.8596 - val_loss: 0.4399 - val_accuracy: 0.7662\n",
            "Epoch 27/50\n",
            "22/22 [==============================] - 0s 5ms/step - loss: 0.3350 - accuracy: 0.8567 - val_loss: 0.4483 - val_accuracy: 0.7662\n",
            "Epoch 28/50\n",
            "22/22 [==============================] - 0s 3ms/step - loss: 0.3251 - accuracy: 0.8654 - val_loss: 0.4802 - val_accuracy: 0.7403\n",
            "Epoch 29/50\n",
            "22/22 [==============================] - 0s 3ms/step - loss: 0.3235 - accuracy: 0.8669 - val_loss: 0.4367 - val_accuracy: 0.7922\n",
            "Epoch 30/50\n",
            "22/22 [==============================] - 0s 3ms/step - loss: 0.3136 - accuracy: 0.8669 - val_loss: 0.4613 - val_accuracy: 0.7532\n",
            "Epoch 31/50\n",
            "22/22 [==============================] - 0s 3ms/step - loss: 0.3019 - accuracy: 0.8828 - val_loss: 0.4571 - val_accuracy: 0.7792\n",
            "Epoch 32/50\n",
            "22/22 [==============================] - 0s 3ms/step - loss: 0.3006 - accuracy: 0.8842 - val_loss: 0.4360 - val_accuracy: 0.8182\n",
            "Epoch 33/50\n",
            "22/22 [==============================] - 0s 4ms/step - loss: 0.3036 - accuracy: 0.8770 - val_loss: 0.4532 - val_accuracy: 0.7792\n",
            "Epoch 34/50\n",
            "22/22 [==============================] - 0s 4ms/step - loss: 0.2887 - accuracy: 0.8784 - val_loss: 0.4697 - val_accuracy: 0.7922\n",
            "Epoch 35/50\n",
            "22/22 [==============================] - 0s 4ms/step - loss: 0.2822 - accuracy: 0.8886 - val_loss: 0.4481 - val_accuracy: 0.7922\n",
            "Epoch 36/50\n",
            "22/22 [==============================] - 0s 4ms/step - loss: 0.2749 - accuracy: 0.8857 - val_loss: 0.4697 - val_accuracy: 0.7922\n",
            "Epoch 37/50\n",
            "22/22 [==============================] - 0s 5ms/step - loss: 0.2717 - accuracy: 0.8958 - val_loss: 0.4739 - val_accuracy: 0.7792\n",
            "Epoch 38/50\n",
            "22/22 [==============================] - 0s 4ms/step - loss: 0.2668 - accuracy: 0.8900 - val_loss: 0.5020 - val_accuracy: 0.7532\n",
            "Epoch 39/50\n",
            "22/22 [==============================] - 0s 4ms/step - loss: 0.2652 - accuracy: 0.9016 - val_loss: 0.5276 - val_accuracy: 0.7403\n",
            "Epoch 40/50\n",
            "22/22 [==============================] - 0s 4ms/step - loss: 0.2498 - accuracy: 0.9117 - val_loss: 0.4689 - val_accuracy: 0.7662\n",
            "Epoch 41/50\n",
            "22/22 [==============================] - 0s 3ms/step - loss: 0.2422 - accuracy: 0.9059 - val_loss: 0.5291 - val_accuracy: 0.7403\n",
            "Epoch 42/50\n",
            "22/22 [==============================] - 0s 3ms/step - loss: 0.2398 - accuracy: 0.9059 - val_loss: 0.5485 - val_accuracy: 0.7403\n",
            "Epoch 43/50\n",
            "22/22 [==============================] - 0s 3ms/step - loss: 0.2300 - accuracy: 0.9103 - val_loss: 0.5413 - val_accuracy: 0.7273\n",
            "Epoch 44/50\n",
            "22/22 [==============================] - 0s 5ms/step - loss: 0.2203 - accuracy: 0.9175 - val_loss: 0.5423 - val_accuracy: 0.7403\n",
            "Epoch 45/50\n",
            "22/22 [==============================] - 0s 3ms/step - loss: 0.2097 - accuracy: 0.9146 - val_loss: 0.5826 - val_accuracy: 0.7013\n",
            "Epoch 46/50\n",
            "22/22 [==============================] - 0s 3ms/step - loss: 0.2071 - accuracy: 0.9219 - val_loss: 0.5657 - val_accuracy: 0.7532\n",
            "Epoch 47/50\n",
            "22/22 [==============================] - 0s 4ms/step - loss: 0.2187 - accuracy: 0.9132 - val_loss: 0.5711 - val_accuracy: 0.7403\n",
            "Epoch 48/50\n",
            "22/22 [==============================] - 0s 3ms/step - loss: 0.2059 - accuracy: 0.9146 - val_loss: 0.5452 - val_accuracy: 0.7532\n",
            "Epoch 49/50\n",
            "22/22 [==============================] - 0s 4ms/step - loss: 0.2064 - accuracy: 0.9262 - val_loss: 0.5427 - val_accuracy: 0.7922\n",
            "Epoch 50/50\n",
            "22/22 [==============================] - 0s 3ms/step - loss: 0.1969 - accuracy: 0.9219 - val_loss: 0.5743 - val_accuracy: 0.7662\n"
          ]
        }
      ]
    },
    {
      "cell_type": "code",
      "source": [
        "result = model.evaluate(x_test,y_test)"
      ],
      "metadata": {
        "colab": {
          "base_uri": "https://localhost:8080/"
        },
        "id": "3ETb-nRQQBDi",
        "outputId": "1adc9628-2471-4258-d0da-e57cb257cf60"
      },
      "execution_count": null,
      "outputs": [
        {
          "output_type": "stream",
          "name": "stdout",
          "text": [
            "3/3 [==============================] - 0s 4ms/step - loss: 0.5743 - accuracy: 0.7662\n"
          ]
        }
      ]
    },
    {
      "cell_type": "markdown",
      "source": [
        "Graphical representaton of decrement of loss with epochs:"
      ],
      "metadata": {
        "id": "PrmzSKE8QVw4"
      }
    },
    {
      "cell_type": "code",
      "source": [
        "plt.xlabel('Epoch')\n",
        "plt.ylabel('loss')\n",
        "plt.ylim([0, 1])\n",
        "test_loss, test_acc = model.evaluate(x_test, y_test, verbose=2)\n",
        "plt.plot(history.history['loss'], label='loss')\n",
        "plt.plot(history.history['val_loss'], label = 'val_loss')\n",
        "plt.legend(['loss', 'val_loss'], loc='upper right')"
      ],
      "metadata": {
        "colab": {
          "base_uri": "https://localhost:8080/",
          "height": 335
        },
        "id": "Gd2k0ZKqQMPN",
        "outputId": "4ba9b069-e930-42a7-b8fa-b64b7e2057a6"
      },
      "execution_count": null,
      "outputs": [
        {
          "output_type": "stream",
          "name": "stderr",
          "text": [
            "WARNING:matplotlib.legend:No handles with labels found to put in legend.\n"
          ]
        },
        {
          "output_type": "stream",
          "name": "stdout",
          "text": [
            "3/3 - 0s - loss: 0.5743 - accuracy: 0.7662 - 32ms/epoch - 11ms/step\n"
          ]
        },
        {
          "output_type": "execute_result",
          "data": {
            "text/plain": [
              "<matplotlib.legend.Legend at 0x7f4bf7f69850>"
            ]
          },
          "metadata": {},
          "execution_count": 12
        },
        {
          "output_type": "display_data",
          "data": {
            "text/plain": [
              "<Figure size 432x288 with 1 Axes>"
            ],
            "image/png": "[encoded data removed]"
          },
          "metadata": {
            "needs_background": "light"
          }
        }
      ]
    },
    {
      "cell_type": "markdown",
      "source": [
        "Graphical representaton of change in val_accuracy with epochs:"
      ],
      "metadata": {
        "id": "lQM1r9enQpzR"
      }
    },
    {
      "cell_type": "code",
      "source": [
        "plt.xlabel('Epoch')\n",
        "plt.ylabel('val_accuracy')\n",
        "plt.plot(history.history['val_accuracy'], label='val_accuracy')\n",
        "plt.plot(history.history['accuracy'], label = 'accuracy')\n",
        "plt.legend(['val_accuracy', 'accuracy'], loc='lower right')"
      ],
      "metadata": {
        "colab": {
          "base_uri": "https://localhost:8080/",
          "height": 296
        },
        "id": "C6pFyx1AQksE",
        "outputId": "11f2d3fa-ca80-4a6b-ad32-8f679256c72d"
      },
      "execution_count": null,
      "outputs": [
        {
          "output_type": "execute_result",
          "data": {
            "text/plain": [
              "<matplotlib.legend.Legend at 0x7f4bfc6e0150>"
            ]
          },
          "metadata": {},
          "execution_count": 13
        },
        {
          "output_type": "display_data",
          "data": {
            "text/plain": [
              "<Figure size 432x288 with 1 Axes>"
            ],
            "image/png": "[encoded data removed]"
          },
          "metadata": {
            "needs_background": "light"
          }
        }
      ]
    }
  ]
}